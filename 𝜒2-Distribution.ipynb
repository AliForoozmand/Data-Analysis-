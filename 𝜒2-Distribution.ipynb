{
 "cells": [
  {
   "cell_type": "markdown",
   "metadata": {},
   "source": [
    "# Homework 5"
   ]
  },
  {
   "cell_type": "markdown",
   "metadata": {
    "collapsed": true
   },
   "source": [
    "## $\\chi^2$ Distribution"
   ]
  },
  {
   "cell_type": "markdown",
   "metadata": {},
   "source": [
    "### A random variable $X$ has a *gamma distribution* with parameters $\\alpha > 0$ and $\\beta > 0$ if $X$ has a pdf\n",
    "\n",
    "\\begin{equation}\n",
    "f_X(x) = \n",
    "\\begin{cases}\n",
    "\\frac{1}{\\beta^{\\alpha}\\Gamma(\\alpha)} x^{\\alpha - 1}e^{-\\frac{x}{\\beta}} & \\text{if }x>0; \\\\\n",
    "0 & \\text{otherwise.}\n",
    "\\end{cases}\n",
    "\\end{equation}\n",
    "\n",
    "### In this case we write $X \\approx \\gamma(\\alpha,\\beta)$.\n",
    "\n",
    "### The $\\chi^2$ distribution is a particular member of the gamma family distribution. In terms of a parametric value $\\nu$ called degrees of freedom, a random variable $X$ is said to have a $\\chi ^2$ distribution with $\\nu$ degrees of freedom if $X \\approx \\gamma(\\frac{1}{2}\\nu,2)$. In this case we write $X \\approx \\chi^2_{\\nu}$.\n",
    "\n",
    "![alt](chi2dist.png)"
   ]
  },
  {
   "cell_type": "markdown",
   "metadata": {},
   "source": [
    "### Question 1: Make a similar plot that shows the distributions: $\\chi^2_1$, $\\chi^2_2$, $\\chi^2_3$, $\\chi^2_4$. \n",
    "\n",
    "### *Hint: Use the following information to help you do the plots: if $Z_1,....,Z_k$ are independent standard normal random variables, then the sum of their squares, $$Q = \\sum^k_{i=1} Z^2_i,$$ is distributed according to the $\\chi ^2$ distribution with $k$ degrees of freedom. This is usually denoted as $$Q \\approx \\chi^2_k.$$ The chi-squared distribution has one parameter, $k$ , a positive integer that specifies the number of degrees of freedom (i.e. the number of $Z_i$'s).*"
   ]
  },
  {
   "cell_type": "code",
   "execution_count": null,
   "metadata": {},
   "outputs": [],
   "source": []
  },
  {
   "cell_type": "markdown",
   "metadata": {},
   "source": [
    "### Second solution:"
   ]
  },
  {
   "cell_type": "code",
   "execution_count": null,
   "metadata": {},
   "outputs": [],
   "source": []
  },
  {
   "cell_type": "markdown",
   "metadata": {},
   "source": [
    "### Third solution:"
   ]
  },
  {
   "cell_type": "code",
   "execution_count": null,
   "metadata": {},
   "outputs": [],
   "source": []
  },
  {
   "cell_type": "markdown",
   "metadata": {},
   "source": [
    "## $\\chi ^2$ - test statistic"
   ]
  },
  {
   "cell_type": "markdown",
   "metadata": {},
   "source": [
    "### A *statistic* is a characteristic of a sample. We usually use it to estimate the value of a population parameter. \n",
    "\n",
    "### Imagine we select a random sample of 50 cows from a farm with 100 cows. The average weight of the selected cows would be an example of a statistic, as well as any other measurable quantity.\n",
    "\n",
    "### In particular, the $\\chi^2$ statistic from a sample is calculated with the following formula:\n",
    "\n",
    "\\begin{equation}\n",
    "\\chi^2 = \\sum^j_{i=1} (O_i-E_i)^2/E_i\n",
    "\\end{equation}\n",
    "\n",
    "### where $O_i$ is the observed frequency of an $i^{th}$ outcome, and $E_i$ is the expected frequency of the $i^{th}$ outcome if the null hypothesis $H_0$ is true. The number $j$ is the possible number of outcomes.\n",
    "\n",
    "### For example, in a coin flipping experiment, there are 2 possible outcomes: Head or tail. Therefore, $j=2$ and the experiment has by definition 1 degree of freedom. (DoF = $j-1$ since the number of tails is not independent from the number of heads)."
   ]
  },
  {
   "cell_type": "markdown",
   "metadata": {},
   "source": [
    "### Question 1: Make a python routine, using a  $\\chi ^2$ - test to solve the following problem.\n",
    "\n",
    "### We wish to test if attending lectures is independent of passing or failing a class. We have the following numbers from a class of 54 students.\n",
    "\n",
    "|  | Pass | Fail |\n",
    "|:-:|:-:|:-:|\n",
    "| Attended | 25 | 6  |\n",
    "| Skipped | 8 | 15 |\n",
    "\n",
    "### Which is the null hypothesis in this case?"
   ]
  },
  {
   "cell_type": "code",
   "execution_count": null,
   "metadata": {},
   "outputs": [],
   "source": []
  },
  {
   "cell_type": "markdown",
   "metadata": {},
   "source": [
    "### Question 2: Using a $\\chi ^2$ - test, calculate the p-value of the observations and using a significance level $\\alpha = 0.05$ , reject or fail to reject the null hypothesis $H_0$ *(as a language quirk, the null hypothesis is not said to be \"accepted\" but \"fail to reject\")*. \n",
    "\n",
    "### *Hint: The module \"scipy\" has a very useful statistic package. for example, check the command scipy.stats.chisquare()*."
   ]
  },
  {
   "cell_type": "code",
   "execution_count": null,
   "metadata": {},
   "outputs": [],
   "source": []
  },
  {
   "cell_type": "markdown",
   "metadata": {},
   "source": [
    "## Smearing"
   ]
  },
  {
   "cell_type": "markdown",
   "metadata": {},
   "source": [
    "### For determining the lifetime of an unstable particle 40000 decay times were measured. The data values include a measurement error $\\sigma_{res}$ (also called resolution) which is constant, i.e. independent of the decay time. You can find the measurements in the file smearing_exp_data40k.txt."
   ]
  },
  {
   "cell_type": "markdown",
   "metadata": {},
   "source": [
    "### Question 1: Plot a histogram of the data (time is in picoseconds)."
   ]
  },
  {
   "cell_type": "code",
   "execution_count": null,
   "metadata": {},
   "outputs": [],
   "source": []
  },
  {
   "cell_type": "code",
   "execution_count": null,
   "metadata": {},
   "outputs": [],
   "source": []
  },
  {
   "cell_type": "markdown",
   "metadata": {},
   "source": [
    "### Question 2: Calculate the mean value and the standard deviation of the data."
   ]
  },
  {
   "cell_type": "code",
   "execution_count": null,
   "metadata": {},
   "outputs": [],
   "source": []
  },
  {
   "cell_type": "markdown",
   "metadata": {},
   "source": [
    "### Question 3: Determine the mean lifetime $\\tau$ of the particle and, most importantly, the time resolution $\\sigma_{res}$.\n",
    "\n",
    "### *Hint: It is not necessary to perform a fit, just use the moments. Assume that the true decay times follow an exponential PDF with mean value $\\tau$, and that the true values are smeared by a Gaussian PDF with mean zero and unknown resolution $\\sigma_{res}$.*"
   ]
  },
  {
   "cell_type": "code",
   "execution_count": null,
   "metadata": {},
   "outputs": [],
   "source": []
  },
  {
   "cell_type": "code",
   "execution_count": null,
   "metadata": {},
   "outputs": [],
   "source": []
  },
  {
   "cell_type": "code",
   "execution_count": null,
   "metadata": {},
   "outputs": [],
   "source": []
  },
  {
   "cell_type": "markdown",
   "metadata": {},
   "source": [
    "### Question 4: Calculate the Kurtosis $\\mu_4/\\sigma^4$ of the Gaussian PDF. For calculating the central moment $\\mu_4$ use the characteristic function $\\phi_G(t) =\\mathrm{exp}(i\\mu t - \\sigma^2 t^2/2)$, not the integral."
   ]
  },
  {
   "cell_type": "code",
   "execution_count": null,
   "metadata": {},
   "outputs": [],
   "source": []
  },
  {
   "cell_type": "code",
   "execution_count": null,
   "metadata": {},
   "outputs": [],
   "source": []
  }
 ],
 "metadata": {
  "kernelspec": {
   "display_name": "Python 3 (ipykernel)",
   "language": "python",
   "name": "python3"
  },
  "language_info": {
   "codemirror_mode": {
    "name": "ipython",
    "version": 3
   },
   "file_extension": ".py",
   "mimetype": "text/x-python",
   "name": "python",
   "nbconvert_exporter": "python",
   "pygments_lexer": "ipython3",
   "version": "3.9.7"
  }
 },
 "nbformat": 4,
 "nbformat_minor": 1
}
