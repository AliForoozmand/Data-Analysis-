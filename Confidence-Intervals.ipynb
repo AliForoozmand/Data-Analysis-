{
 "cells": [
  {
   "cell_type": "markdown",
   "metadata": {},
   "source": [
    "# Ali Foroozmand\n",
    "\n",
    "# Homework 7"
   ]
  },
  {
   "cell_type": "markdown",
   "metadata": {
    "collapsed": true
   },
   "source": [
    "# Confidence Intervals"
   ]
  },
  {
   "cell_type": "markdown",
   "metadata": {},
   "source": [
    "## Airline meals must look appetizing and attractive to the general public. For this, the airline industry spends considerable research time on the latest trends in food presentation. However, because of space, both the volume and weight of a meal are particularly important.\n",
    "\n",
    "## A study focused on estimating the mean $\\mu$ (g) of the normally distributed variable \"weight of sausage on packaged breakfast\" (Source: Ansett Airlines).\n",
    "\n",
    "## As this was part of an on-going monitoring program, there was prior knowledge of the standard deviation of similar dataset. It was assumed $\\sigma = 7$."
   ]
  },
  {
   "cell_type": "markdown",
   "metadata": {},
   "source": [
    "### Question 1: Construct a 99% confidence interval for $\\mu$ assuming that $\\sigma = 7$. The weight in grams of the \"sausage component of breakfast\" was measured to be:\n",
    "\n",
    "| | | | | | | | | | |\n",
    "|:-:|:-:|:-:|:-:|:-:|:-:|:-:|:-:|:-:|:-:|\n",
    "|14|15|16|17|17|17|18|18|19|19|\n",
    "|20|21|22|22|22|23|23|25|25|26|\n",
    "|28|29|30|30|30|32|33|26|38|43|\n",
    "\n",
    "### Remember that:\n",
    "\n",
    "| Level of Confidence | z$_c$|\n",
    "|:-:|:-:|\n",
    "|0.80|1.28|\n",
    "|0.90|1.645|\n",
    "|0.95|1.96|\n",
    "|0.99|2.576|\n",
    "|0.999|3.290|\n"
   ]
  },
  {
   "cell_type": "code",
   "execution_count": 1,
   "metadata": {},
   "outputs": [
    {
     "name": "stdout",
     "output_type": "stream",
     "text": [
      "confidence interval is = (27.225511052311052, 20.641155614355615)\n"
     ]
    }
   ],
   "source": [
    "import numpy as np\n",
    "\n",
    "sample = np.array([14,15,16,17,17,17,18,18,19,19,20,21,22,22,22,23,23,25,25,26,28,29,30,30,30,32,33,26,38,43])\n",
    "\n",
    "sigma = 7 \n",
    "z_loc = 2.576 #level of confidence \n",
    "N = len(sample)\n",
    "\n",
    "x_bar = np.mean(sample)\n",
    "\n",
    "confidence_interval = x_bar + z_loc* sigma / np.sqrt(N) , x_bar - z_loc* sigma / np.sqrt(N)\n",
    "\n",
    "print (f\"confidence interval is = {confidence_interval}\")"
   ]
  },
  {
   "cell_type": "markdown",
   "metadata": {},
   "source": [
    "### Question 2: Determine the (approximate) minimum sample size required to be 99% sure that the true average weight $\\mu$ of all sausages will not differ by more than 3 grams from an observed sample mean weight."
   ]
  },
  {
   "cell_type": "markdown",
   "metadata": {},
   "source": [
    "#### To determine the minimum sample size $N$ required for a 99% confidence level, we use the following formula:\n",
    "\n",
    "- $ n =(z . σ/ E)^2$"
   ]
  },
  {
   "cell_type": "code",
   "execution_count": 2,
   "metadata": {},
   "outputs": [
    {
     "name": "stdout",
     "output_type": "stream",
     "text": [
      "N_min is roughly = 37\n"
     ]
    }
   ],
   "source": [
    "import math\n",
    "\n",
    "E = 3 #g  # maximum allowable margin of error\n",
    "\n",
    "n_min = (z_loc * sigma / E) ** 2\n",
    "n_min_rounded = math.ceil(n_min)\n",
    "\n",
    "print (f\"N_min is roughly = {n_min_rounded}\")"
   ]
  },
  {
   "cell_type": "markdown",
   "metadata": {},
   "source": [
    "# Wilcoxon-Mann-Whitney U test"
   ]
  },
  {
   "cell_type": "markdown",
   "metadata": {},
   "source": [
    "## In 2012, an average Austrian's annual income was $\\sim$ 25400 Euro."
   ]
  },
  {
   "cell_type": "markdown",
   "metadata": {},
   "source": [
    "###  Question 3: Write your own Python function that calculates the Wilcoxon-Mann-Whitney U test to determine, with probability of error $<$5%, if the samples shown below could have been drawn from the same population.\n",
    "\n",
    "\n",
    "\n",
    "\n",
    "\n",
    "### Table 1: Annual income in Euro of 13 randomly selected Austrian people\n",
    "\n",
    "| | | | |\n",
    "|:-:|:-:|:-:|:-:|\n",
    "|15171|12274|12707|14098|\n",
    "|24872|13823|21178|13847|\n",
    "|16877|12521|47137|14742|\n",
    "|22091| | | |\n",
    "\n",
    "             \n",
    "### Table 2: Annual income in Euro of 13 randomly selected (Austrian?) people\n",
    "\n",
    "| | | | |\n",
    "|:-:|:-:|:-:|:-:|\n",
    "|16895|43307|24688|32949|\n",
    "|20808|19743|17601|21829|\n",
    "|18278|17274|21439|25643|\n",
    "|27836| | | |\n",
    "\n",
    "### *Hint: For samples larger than N1=N2=8, Instead of using the U-table like in the example, you can calculate a Z-score from the sample using the following formula:*\n",
    "\n",
    "\\begin{equation}\n",
    "Z_1 = \\frac{T_1 - \\frac{N_1(N1+N2+1)}{2}}{\\sqrt{\\frac{N1N2(N1+N2+1)}{12}}}\n",
    "\\end{equation}\n",
    "\n",
    "\\begin{equation}\n",
    "Z_2 = \\frac{T_2 - \\frac{N_2(N1+N2+1)}{2}}{\\sqrt{\\frac{N1N2(N1+N2+1)}{12}}}\n",
    "\\end{equation}\n",
    "\n",
    "### *and then find the p-value using a built-in Python function:*\n",
    "\n",
    "#### p_values = scipy.stats.norm.sf(abs(z_scores))\\*2 #twosided\n",
    "#### help(scipy.stats.norm.sf)\n"
   ]
  },
  {
   "cell_type": "code",
   "execution_count": 3,
   "metadata": {},
   "outputs": [
    {
     "name": "stdout",
     "output_type": "stream",
     "text": [
      "Wilcoxon-Mann-Whitney U Test Results:\n",
      "T1: 127,             T2: 224\n",
      "Z1: -2.49,         Z2: 2.49\n",
      "p-value: 0.0129\n",
      "Conclusion: Reject null hypothesis\n"
     ]
    }
   ],
   "source": [
    "from scipy.stats import norm\n",
    "\n",
    "#data\n",
    "table1 = np.array([15171, 12274, 12707, 14098, 24872, 13823, 21178, 13847, 16877, 12521, 47137, 14742, 22091])\n",
    "table2 = np.array([16895, 43307, 24688, 32949, 20808, 19743, 17601, 21829, 18278, 17274, 21439, 25643, 27836])\n",
    "\n",
    "def wmwu(sample1, sample2, alpha=0.05): # wilcoxon_mann_whitney_u_test\n",
    "    \n",
    "    combined = np.concatenate([sample1, sample2])\n",
    "    ranks = np.argsort(np.argsort(combined)) + 1  # Rank starts at 1\n",
    "    \n",
    "   \n",
    "    ranks1 = ranks[:len(sample1)]\n",
    "    ranks2 = ranks[len(sample1):]\n",
    "    \n",
    "   \n",
    "    T1 = np.sum(ranks1)\n",
    "    T2 = np.sum(ranks2)\n",
    "    \n",
    "    \n",
    "    N1, N2 = len(sample1), len(sample2)\n",
    "    \n",
    "    #Z-scores\n",
    "    mean_rank1 = N1 * (N1 + N2 + 1) / 2\n",
    "    mean_rank2 = N2 * (N1 + N2 + 1) / 2\n",
    "    std_rank = np.sqrt(N1 * N2 * (N1 + N2 + 1) / 12)\n",
    "    \n",
    "    Z1 = (T1 - mean_rank1) / std_rank\n",
    "    Z2 = (T2 - mean_rank2) / std_rank\n",
    "    \n",
    "    # Two-sided p-value\n",
    "    p_value = norm.sf(abs(Z1)) * 2  # Same for Z2 because Z1 and Z2 are complementary\n",
    "    \n",
    "    \n",
    "    result = \"Reject null hypothesis\" if p_value < alpha else \"Fail to reject null hypothesis\"\n",
    "    \n",
    "    return {\n",
    "        \"T1\": T1,\n",
    "        \"T2\": T2,\n",
    "        \"Z1\": Z1,\n",
    "        \"Z2\": Z2,\n",
    "        \"p_value\": p_value,\n",
    "        \"result\": result\n",
    "    }\n",
    "\n",
    "# Perform the test\n",
    "result = wmwu(table1, table2)\n",
    "print(\"Wilcoxon-Mann-Whitney U Test Results:\")\n",
    "print(f\"T1: {result['T1']},             T2: {result['T2']}\")\n",
    "print(f\"Z1: {result['Z1']:.2f},         Z2: {result['Z2']:.2f}\")\n",
    "print(f\"p-value: {result['p_value']:.4f}\")\n",
    "print(f\"Conclusion: {result['result']}\")"
   ]
  },
  {
   "cell_type": "code",
   "execution_count": null,
   "metadata": {},
   "outputs": [],
   "source": []
  },
  {
   "cell_type": "code",
   "execution_count": null,
   "metadata": {},
   "outputs": [],
   "source": []
  }
 ],
 "metadata": {
  "kernelspec": {
   "display_name": "Python 3 (ipykernel)",
   "language": "python",
   "name": "python3"
  },
  "language_info": {
   "codemirror_mode": {
    "name": "ipython",
    "version": 3
   },
   "file_extension": ".py",
   "mimetype": "text/x-python",
   "name": "python",
   "nbconvert_exporter": "python",
   "pygments_lexer": "ipython3",
   "version": "3.9.12"
  }
 },
 "nbformat": 4,
 "nbformat_minor": 1
}
