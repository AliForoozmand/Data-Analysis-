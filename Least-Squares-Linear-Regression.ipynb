{
 "cells": [
  {
   "cell_type": "markdown",
   "metadata": {},
   "source": [
    "# Ali Foroozmand\n",
    "\n",
    "# Homework 8"
   ]
  },
  {
   "cell_type": "markdown",
   "metadata": {
    "collapsed": true
   },
   "source": [
    "# Least Squares Linear Regression"
   ]
  },
  {
   "cell_type": "markdown",
   "metadata": {},
   "source": [
    "## A linear relationship between $n$ number of observations $(x_i,y_i)$ on a scatterplot might be described by the straight line function:\n",
    "         \n",
    "\\begin{equation}\n",
    "\\mu(x) = b_0 + b_1 x      \n",
    "\\end{equation}\n",
    "\n",
    "## where $b_0$ and $b_1$ are unknown constant parameters and $\\mu$ is called the regression function.\n",
    "\n",
    "## We wish to use the data, in order to calculate the values of $b_0$ and $b_1$ which best fits the data.\n",
    "\t\n",
    "## The fitted value of the line at each real data point $x_i$ is given by: \n",
    "\n",
    "$$\\mu(x_i) = b_0 + b_1 x_i$$\n",
    "\n",
    "## But there is in particular a difference between the *observed* response data point $y_i$ and the *fitted* response we get with our line $\\mu(x_i)$:\n",
    "\n",
    "$$y_i - (b_0 + b_1 x_i)\\, , \\, i = 1,2,3,...,n$$\n",
    "\n",
    "## These differences for each point are called residuals. Some are positive (when the observed data point lies above the line) and some are negative (when the observed data point is below the line) and some might be zero. If we use the sum as a measure of goodness-of-fit, some positive residuals would cancel some negatives residuals. Instead, to get a sense of the real difference, we can square each difference before adding them together.\n",
    "\n",
    "## The *Method of Least Squares* consists of finding the value of $b_0$ and $b_1$ which will minimize the residual sum of the squares:\n",
    "\n",
    "\\begin{equation}\n",
    "f(b_0, b_1) = \\sum^{n}_{i=1}[y_i - (b_0 + b_1x_i)]^2 \\; \\; \\; \\; \\; \\rm{(Equation \\; 1)}\n",
    "\\end{equation}\n",
    "\t\n",
    "## These parameters will be:\n",
    "\t\n",
    "\\begin{eqnarray}\n",
    "b_1 &= &\\frac{\\sum_{i=1}^n (y_i - \\bar y)(x_i - \\bar x)}{\\sum_{i=1}^n (x_i - \\bar x)^2} \\; \\; \\; \\; \\; \\; \\; \\; \\; \\; \\; \\; \\rm{(Equation \\; 2)}\\\\\n",
    "b_0 &= &\\bar y - b_1 \\bar x \n",
    "\\end{eqnarray}"
   ]
  },
  {
   "cell_type": "markdown",
   "metadata": {},
   "source": [
    "### Question 1:  Find these coefficients in Equation 2 by minimizing Equation 1. "
   ]
  },
  {
   "cell_type": "markdown",
   "metadata": {},
   "source": [
    "# answer\n",
    "\n",
    "## Step 1: \n",
    "We have this equation:\n",
    "\\\n",
    "* $f(b_0, b_1) = \\sum_{i=1}^n [y_i - (b_0 + b_1 x_i)]^2$\n",
    "\n",
    "## Step 2:\n",
    "Expanding the squared term:\n",
    "\n",
    "* \\$f(b_0, b_1) = \\sum_{i=1}^n \\left[ y_i^2 - 2y_i(b_0 + b_1 x_i) + (b_0 + b_1 x_i)^2 \\right]\n",
    "\\$\n",
    "\n",
    "Separate the terms:\n",
    "\n",
    "* \\$f(b_0, b_1) = \\sum_{i=1}^n y_i^2 - 2b_0 \\sum_{i=1}^n y_i - 2b_1 \\sum_{i=1}^n y_i x_i + b_0^2 n + 2b_0 b_1 \\sum_{i=1}^n x_i + b_1^2 \\sum_{i=1}^n x_i^2\n",
    "\\$\n",
    "\n",
    "## Step 3: \n",
    "To minimize \\$( f(b_0, b_1) \\)$, take partial derivatives with respect to $\\( b_0 \\)$ and $\\( b_1 \\)$, and set them to zero.\n",
    "\n",
    "### Partial Derivative with Respect to \\( b_0 \\):\n",
    "\n",
    "* \\$\\frac{\\partial f}{\\partial b_0} = -2 \\sum_{i=1}^n y_i + 2b_0 n + 2b_1 \\sum_{i=1}^n x_i = 0\n",
    "\\$\n",
    "\n",
    "so :\n",
    "\n",
    "* \\$ b_0 n + b_1 \\sum_{i=1}^n x_i = \\sum_{i=1}^n y_i \\quad \\text{(1)}\n",
    "\\$\n",
    "\n",
    "### Partial Derivative with Respect to \\$( b_1 \\)$:\n",
    "\n",
    "\n",
    "* \\$ \\frac{\\partial f}{\\partial b_1} = -2 \\sum_{i=1}^n y_i x_i + 2b_0 \\sum_{i=1}^n x_i + 2b_1 \\sum_{i=1}^n x_i^2 = 0\n",
    "\\$\n",
    "so :\n",
    "\n",
    "* \\$ b_0 \\sum_{i=1}^n x_i + b_1 \\sum_{i=1}^n x_i^2 = \\sum_{i=1}^n y_i x_i \\quad \\text{(2)}\n",
    "\\$\n",
    "\n",
    "## Step 4: \n",
    "From Equation (1):\n",
    "\n",
    "* \\$\n",
    "b_0 = \\frac{\\sum_{i=1}^n y_i}{n} - b_1 \\frac{\\sum_{i=1}^n x_i}{n}\n",
    "\\$\n",
    "\n",
    "Substitute \\$( b_0 = \\bar{y} - b_1 \\bar{x} \\)$ into Equation (2):\n",
    "\n",
    "* \\$\n",
    "(\\bar{y} - b_1 \\bar{x}) \\sum_{i=1}^n x_i + b_1 \\sum_{i=1}^n x_i^2 = \\sum_{i=1}^n y_i x_i\n",
    "\\$\n",
    "\n",
    "Expand and simplify:\n",
    "\n",
    "* \\$\n",
    "\\bar{y} \\sum_{i=1}^n x_i - b_1 \\bar{x} \\sum_{i=1}^n x_i + b_1 \\sum_{i=1}^n x_i^2 = \\sum_{i=1}^n y_i x_i\n",
    "\\$\n",
    "\n",
    "Group terms with \\$( b_1 \\)$:\n",
    "\n",
    "* \\$\n",
    "b_1 \\left( \\sum_{i=1}^n x_i^2 - \\bar{x} \\sum_{i=1}^n x_i \\right) = \\sum_{i=1}^n y_i x_i - \\bar{y} \\sum_{i=1}^n x_i\n",
    "\\$\n",
    "\n",
    "Recognize that \\$( \\bar{x} \\sum_{i=1}^n x_i = n \\bar{x}^2 \\)$:\n",
    "\n",
    "* \\$\n",
    "b_1 = \\frac{\\sum_{i=1}^n (y_i - \\bar{y})(x_i - \\bar{x})}{\\sum_{i=1}^n (x_i - \\bar{x})^2}\n",
    "\\$\n",
    "\n",
    "## Step 5:\n",
    "\n",
    "Using \\$( b_0 = \\bar{y} - b_1 \\bar{x} \\)$:\n",
    "\n",
    "\\$\n",
    "b_0 = \\bar{y} - b_1 \\bar{x}\n",
    "\\$\n",
    "\n",
    "## Final Results\n",
    "\n",
    "\\$\n",
    "b_1 = \\frac{\\sum_{i=1}^n (y_i - \\bar{y})(x_i - \\bar{x})}{\\sum_{i=1}^n (x_i - \\bar{x})^2}\n",
    "\\$\n",
    "\n",
    "\\$\n",
    "b_0 = \\bar{y} - b_1 \\bar{x}\n",
    "\\$\n"
   ]
  },
  {
   "cell_type": "markdown",
   "metadata": {},
   "source": [
    "### Question 2: Wild and Seber (1993) report data on experiments carried out by a cement manufacturer to detect how the hardness of concrete is dependent on the amount of cement in the mix. In the experiment, forty concrete samples were constructed with different amounts of cement, X in grams. After a seven-day drying period, the samples were subjected to hardness tests, giving an observation of the hardness Y in appropriate units.\t\n",
    "\n",
    "### Implement a Python routine which will take the data provided as a numpy array and calculate the coefficients $b_1$ and $b_0$. \n",
    "\n",
    "### *Hint: The following commands will be useful:*\n",
    "\n",
    " np.loadtxt(open(\"filename\"))"
   ]
  },
  {
   "cell_type": "code",
   "execution_count": 23,
   "metadata": {},
   "outputs": [
    {
     "name": "stdout",
     "output_type": "stream",
     "text": [
      "Coefficient b1 : 0.18647089842462594\n",
      "Coefficient b0 : -24.0665579065322\n"
     ]
    }
   ],
   "source": [
    "import numpy as np\n",
    "\n",
    "data = np.loadtxt(open(\"Cement.txt\")) \n",
    "X = data[:, 0]  # First column: cement\n",
    "Y = data[:, 1]  # Second column: hardness\n",
    "\n",
    "\n",
    "X_mean = np.mean(X)\n",
    "Y_mean = np.mean(Y)\n",
    "numerator = np.sum((X - X_mean) * (Y - Y_mean))\n",
    "denominator = np.sum((X - X_mean) ** 2)\n",
    "\n",
    "\n",
    "b1 = numerator / denominator\n",
    "b0 = Y_mean - b1 * X_mean\n",
    "\n",
    "print(f\"Coefficient b1 : {b1}\")\n",
    "print(f\"Coefficient b0 : {b0}\")\n"
   ]
  },
  {
   "cell_type": "markdown",
   "metadata": {},
   "source": [
    "### Question 3: Make a scatter plot that contains the data and your fit of the line of Concrete Hardness vs Cement Content."
   ]
  },
  {
   "cell_type": "code",
   "execution_count": 31,
   "metadata": {},
   "outputs": [
    {
     "data": {
      "image/png": "[encoded data removed]",
      "text/plain": [
       "<Figure size 864x720 with 1 Axes>"
      ]
     },
     "metadata": {
      "needs_background": "light"
     },
     "output_type": "display_data"
    }
   ],
   "source": [
    "import matplotlib.pyplot as plt\n",
    "\n",
    "y = b0 + b1 * X\n",
    "\n",
    "\n",
    "plt.figure(figsize=(12, 10))\n",
    "plt.scatter(X, Y, color='blue', label='Data')\n",
    "plt.plot(X, y, color='red', label='Fitted')\n",
    "\n",
    "\n",
    "plt.xlabel(\"Cement Content (grams)\")\n",
    "plt.ylabel(\"Hardness\")\n",
    "plt.legend()\n",
    "plt.grid(alpha=0.3)\n",
    "plt.show()"
   ]
  },
  {
   "cell_type": "markdown",
   "metadata": {},
   "source": [
    "### Question 4: Calculate the errors of the coefficients using the following recipe: The covariance matrix of the parameters of a Maximum likelihood fit is given by the inverse of the matrix of second derivates of $log L$. Note that in the case of Gaussian errors the least squares fit and the Maximum likelihood fit are equivalent, with $\\chi^2 = -2 log L$. Clearly the Method of least squares and the chi-square method are also equivalent. One just has to assume a constant error for all data values."
   ]
  },
  {
   "cell_type": "code",
   "execution_count": 44,
   "metadata": {},
   "outputs": [
    {
     "name": "stdout",
     "output_type": "stream",
     "text": [
      "b0 = -24.067, SE(b0) = 3.699 \n",
      "b1 = 0.186,   SE(b1) = 0.013\n"
     ]
    }
   ],
   "source": [
    "sigma = 5\n",
    "sigma2 = 25\n",
    "\n",
    "matrix1 = len(X) / sigma2\n",
    "matrix2 = np.sum(X/sigma2)\n",
    "matrix3 = matrix2\n",
    "matrix4 = np.sum(X**2 / sigma2)\n",
    "\n",
    "invers_det = 1./ (matrix1*matrix4 - matrix3*matrix2)\n",
    "\n",
    "SE_b0 = np.sqrt(matrix4*invers_det)\n",
    "SE_b1 = np.sqrt(matrix1*invers_det)\n",
    "# Print the results\n",
    "print(f\"b0 = {b0:.3f}, SE(b0) = {SE_b0:.3f} \")\n",
    "print(f\"b1 = {b1:.3f},   SE(b1) = {SE_b1:.3f}\")\n",
    "\n"
   ]
  },
  {
   "cell_type": "code",
   "execution_count": null,
   "metadata": {},
   "outputs": [],
   "source": []
  }
 ],
 "metadata": {
  "kernelspec": {
   "display_name": "Python 3 (ipykernel)",
   "language": "python",
   "name": "python3"
  },
  "language_info": {
   "codemirror_mode": {
    "name": "ipython",
    "version": 3
   },
   "file_extension": ".py",
   "mimetype": "text/x-python",
   "name": "python",
   "nbconvert_exporter": "python",
   "pygments_lexer": "ipython3",
   "version": "3.9.12"
  }
 },
 "nbformat": 4,
 "nbformat_minor": 1
}
